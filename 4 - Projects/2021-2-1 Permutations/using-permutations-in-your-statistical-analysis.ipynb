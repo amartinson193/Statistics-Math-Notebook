{
 "cells": [
  {
   "cell_type": "markdown",
   "metadata": {
    "papermill": {
     "duration": 0.012827,
     "end_time": "2021-02-18T14:57:02.092349",
     "exception": false,
     "start_time": "2021-02-18T14:57:02.079522",
     "status": "completed"
    },
    "tags": []
   },
   "source": [
    "# Outline\n",
    "\n",
    "* Importing all required packages and data\n",
    "* Introduction\n",
    "* Example #1 - Iris Dataset\n",
    "* Example #1 - Results Interpretation\n",
    "* Example #2 - Cars Dataset\n",
    "* Example #2 - Results Interpretation\n",
    "* Warning\n",
    "* Conclusion"
   ]
  },
  {
   "cell_type": "markdown",
   "metadata": {
    "papermill": {
     "duration": 0.011147,
     "end_time": "2021-02-18T14:57:02.115799",
     "exception": false,
     "start_time": "2021-02-18T14:57:02.104652",
     "status": "completed"
    },
    "tags": []
   },
   "source": [
    "# Importing all required packages and data\n",
    "\n",
    "\n",
    "\n"
   ]
  },
  {
   "cell_type": "code",
   "execution_count": 1,
   "metadata": {
    "execution": {
     "iopub.execute_input": "2021-02-18T14:57:02.145189Z",
     "iopub.status.busy": "2021-02-18T14:57:02.144342Z",
     "iopub.status.idle": "2021-02-18T14:57:03.040628Z",
     "shell.execute_reply": "2021-02-18T14:57:03.039842Z"
    },
    "papermill": {
     "duration": 0.9137,
     "end_time": "2021-02-18T14:57:03.040826",
     "exception": false,
     "start_time": "2021-02-18T14:57:02.127126",
     "status": "completed"
    },
    "tags": []
   },
   "outputs": [],
   "source": [
    "from statsmodels.stats.weightstats import ttest_ind\n",
    "import statsmodels.formula.api as sm\n",
    "import numpy as np\n",
    "import pandas as pd\n",
    "import matplotlib.pyplot as plt\n",
    "\n",
    "iris_dat = pd.read_csv('/kaggle/input/iris/Iris.csv')\n",
    "car_dat = pd.read_csv('/kaggle/input/autompg-dataset/auto-mpg.csv')"
   ]
  },
  {
   "cell_type": "markdown",
   "metadata": {
    "papermill": {
     "duration": 0.011353,
     "end_time": "2021-02-18T14:57:03.065239",
     "exception": false,
     "start_time": "2021-02-18T14:57:03.053886",
     "status": "completed"
    },
    "tags": []
   },
   "source": [
    "# Introduction\n",
    "\n",
    "A permutation test is a statistical test that does not make assumptions about the normality of the distribution of the data (aka a 'non-parametric' test). This can be very useful for testing data that is not normally distributed. The permutation test simply runs mixes up the data (without replacement) and then computes a test statistic an n number of times. You then can plot the resulting distribution and compute the p-value.\n",
    "\n",
    "I will show two examples of how you could use a permutation test to test for significance. Both datasets come from the UCI Machine Learning repository, which are typical beginner datasets for stats and machine learning."
   ]
  },
  {
   "cell_type": "markdown",
   "metadata": {
    "papermill": {
     "duration": 0.011152,
     "end_time": "2021-02-18T14:57:03.087894",
     "exception": false,
     "start_time": "2021-02-18T14:57:03.076742",
     "status": "completed"
    },
    "tags": []
   },
   "source": [
    "# Example 1 - Iris Dataset\n",
    "\n",
    "For this first example, we will focus on comparing the sepal lengths for two different iris species and test for significance using a permutation test. The null hypothesis is that the average sepal lengths are the same. The alternate hypothesis is that they're not the same."
   ]
  },
  {
   "cell_type": "code",
   "execution_count": 2,
   "metadata": {
    "execution": {
     "iopub.execute_input": "2021-02-18T14:57:03.138155Z",
     "iopub.status.busy": "2021-02-18T14:57:03.137453Z",
     "iopub.status.idle": "2021-02-18T14:57:06.002407Z",
     "shell.execute_reply": "2021-02-18T14:57:06.001851Z"
    },
    "papermill": {
     "duration": 2.90286,
     "end_time": "2021-02-18T14:57:06.002548",
     "exception": false,
     "start_time": "2021-02-18T14:57:03.099688",
     "status": "completed"
    },
    "tags": []
   },
   "outputs": [
    {
     "name": "stdout",
     "output_type": "stream",
     "text": [
      "Here are the original means for the Sepal Lengths of the two species \n",
      "\n",
      "                 SepalLengthCm\n",
      "Species                       \n",
      "Iris-versicolor          5.936\n",
      "Iris-virginica           6.588\n"
     ]
    },
    {
     "data": {
      "image/png": "[encoded data removed]",
      "text/plain": [
       "<Figure size 432x288 with 1 Axes>"
      ]
     },
     "metadata": {
      "needs_background": "light"
     },
     "output_type": "display_data"
    },
    {
     "name": "stdout",
     "output_type": "stream",
     "text": [
      "Here is the p-value: 0.0\n"
     ]
    }
   ],
   "source": [
    "# Subset the data into only two groups\n",
    "iris_dat_sub = iris_dat[iris_dat['Species'].isin(['Iris-versicolor','Iris-virginica'])].reset_index()\n",
    "\n",
    "# Permutation test - diff of means ----------------------\n",
    "\n",
    "# Set the number of iterations\n",
    "x = 1000\n",
    "\n",
    "# Create an empty datasets\n",
    "replicates = np.empty(x)\n",
    "\n",
    "# Find the difference in means for the original data set\n",
    "og_grouped = iris_dat_sub.loc[:,['SepalLengthCm','Species']].groupby('Species').mean()\n",
    "og_mean_diff = og_grouped.iloc[1] - og_grouped.iloc[0]\n",
    "print('Here are the original means for the Sepal Lengths of the two species \\n')\n",
    "print(og_grouped)\n",
    "\n",
    "# Run a loop for the number of permutations we want to do\n",
    "for i in range(x):\n",
    "    permuted_dat_base = np.random.permutation(iris_dat_sub['SepalLengthCm']) # permute (shuffle) the data\n",
    "    permuted_dat = pd.concat([pd.Series(permuted_dat_base),iris_dat_sub['Species']], axis=1) # re-assign data points to random species\n",
    "    grouped_dat = permuted_dat.groupby('Species').mean() # Calculate the permuted means for each species\n",
    "    diff_of_means = grouped_dat.iloc[1] - grouped_dat.iloc[0] # Find the permuted mean difference for comparison to the original mean difference\n",
    "    replicates[i] = diff_of_means # Add to our empty dataset\n",
    "    \n",
    "# Plot the replicates and compare to the original mean\n",
    "plt.hist(replicates)\n",
    "plt.axvline(og_mean_diff['SepalLengthCm']\n",
    ", color='red')\n",
    "plt.show()\n",
    "\n",
    "# Compute the p-value\n",
    "p_val = np.sum(replicates >= og_mean_diff['SepalLengthCm'])/len(replicates)\n",
    "print('Here is the p-value: {}'.format(p_val))\n",
    "\n",
    "# --------------------------------------------------------"
   ]
  },
  {
   "cell_type": "markdown",
   "metadata": {
    "papermill": {
     "duration": 0.012738,
     "end_time": "2021-02-18T14:57:06.029199",
     "exception": false,
     "start_time": "2021-02-18T14:57:06.016461",
     "status": "completed"
    },
    "tags": []
   },
   "source": [
    "# Example 1  - Results Interpretation\n",
    "\n",
    "The p-value shows that there are no data points that we as or more extreme than our data point. This means that the Virginica Iris sepal lengths were statistically signifantly longer than the Versicolor Iris sepal lengths. If our mean difference would have been negative, we would have calculated our p-value by seeing how many replicates were below the original mean difference. This is because the definition of a p-value is finding values as or more extreme than what was observed. In this case, this translates to the area of the distribution greater than the mean differences we observed. \n",
    "\n",
    "One thing to note is we could have had our test statistic be based on the medians instead of the mean as well. That's part of the flexibility of the permutation test, you can choose your test statistic. In the next example, I will use a permutation test on the cars dataset using correlation.\n",
    "\n",
    "One more thing that would be good to do is plot the cumulative distribution function to check the distribution of your data. This can also help you get a sense if the difference is significant or not."
   ]
  },
  {
   "cell_type": "code",
   "execution_count": 3,
   "metadata": {
    "execution": {
     "iopub.execute_input": "2021-02-18T14:57:06.179787Z",
     "iopub.status.busy": "2021-02-18T14:57:06.164841Z",
     "iopub.status.idle": "2021-02-18T14:57:06.678072Z",
     "shell.execute_reply": "2021-02-18T14:57:06.677413Z"
    },
    "papermill": {
     "duration": 0.635683,
     "end_time": "2021-02-18T14:57:06.678212",
     "exception": false,
     "start_time": "2021-02-18T14:57:06.042529",
     "status": "completed"
    },
    "tags": []
   },
   "outputs": [
    {
     "data": {
      "image/png": "[encoded data removed]",
      "text/plain": [
       "<Figure size 432x288 with 1 Axes>"
      ]
     },
     "metadata": {
      "needs_background": "light"
     },
     "output_type": "display_data"
    }
   ],
   "source": [
    "# Credit for this function: DataCamp course: 'Statistical Thinking in Python (Part 1)'\n",
    "def ecdf(data): \n",
    "    \"\"\"Compute ECDF for a one-dimensional array of measurements.\"\"\" \n",
    "    \n",
    "    # Number of data points: n \n",
    "    n = len(data) \n",
    "\n",
    "    # x-data for the ECDF: x \n",
    "    x = np.sort(data) \n",
    "\n",
    "    # y-data for the ECDF: y \n",
    "    y = np.arange(1, n + 1) / n \n",
    "\n",
    "    return x, y \n",
    "\n",
    "# Credit for this idea: DataCamp course: 'Statistical Thinking in Python (Part 2)'\n",
    "for _ in range(50):\n",
    "    \n",
    "    # Generate permutation samples\n",
    "    permuted_dat_base = np.random.permutation(iris_dat_sub['SepalLengthCm']) # permute (shuffle) the data\n",
    "    permuted_dat = pd.concat([pd.Series(permuted_dat_base),iris_dat_sub['Species']], axis=1) # re-assign data points to random species\n",
    "    perm_versicolor = permuted_dat[permuted_dat['Species'] == 'Iris-versicolor'].iloc[:,0]\n",
    "    perm_virginica  = permuted_dat[permuted_dat['Species'] == 'Iris-virginica'].iloc[:,0]\n",
    "    \n",
    "    # Compute ECDFs\n",
    "    x_1, y_1 = ecdf(perm_versicolor)\n",
    "    x_2, y_2 = ecdf(perm_virginica)\n",
    "\n",
    "    # Plot ECDFs of permutation sample\n",
    "    _ = plt.plot(x_1, y_1, marker='.', linestyle='none',\n",
    "                 color='red', alpha=0.02)\n",
    "    _ = plt.plot(x_2, y_2, marker='.', linestyle='none',\n",
    "                 color='blue', alpha=0.02)\n",
    "\n",
    "# Create and plot ECDFs from original data\n",
    "x_1, y_1 = ecdf(iris_dat[iris_dat['Species'] == 'Iris-versicolor']['SepalLengthCm'])\n",
    "x_2, y_2 = ecdf(iris_dat[iris_dat['Species'] == 'Iris-virginica']['SepalLengthCm'])\n",
    "_ = plt.plot(x_1, y_1, marker='.', linestyle='none', color='red', label='Versicolor')\n",
    "_ = plt.plot(x_2, y_2, marker='.', linestyle='none', color='blue', label='Virginica')\n",
    "plt.xlabel('SepalLengthCm')\n",
    "plt.ylabel('Cumulative Pct Total')\n",
    "plt.title('Sepal Lengths Between Versicolor & Virginica')\n",
    "plt.legend()\n",
    "plt.show()"
   ]
  },
  {
   "cell_type": "markdown",
   "metadata": {
    "papermill": {
     "duration": 0.014087,
     "end_time": "2021-02-18T14:57:06.706914",
     "exception": false,
     "start_time": "2021-02-18T14:57:06.692827",
     "status": "completed"
    },
    "tags": []
   },
   "source": [
    "You can see that the permutations are clearly inbetween the versicolor and virginica petal lengths, which also visually indicates that they are significantly different. The last thing to really drive this home is comparing this to the result from a two-sample t-test, which you could also do for this data assuming it is normally distributed."
   ]
  },
  {
   "cell_type": "code",
   "execution_count": 4,
   "metadata": {
    "execution": {
     "iopub.execute_input": "2021-02-18T14:57:06.769686Z",
     "iopub.status.busy": "2021-02-18T14:57:06.768122Z",
     "iopub.status.idle": "2021-02-18T14:57:06.954917Z",
     "shell.execute_reply": "2021-02-18T14:57:06.954193Z"
    },
    "papermill": {
     "duration": 0.233329,
     "end_time": "2021-02-18T14:57:06.955072",
     "exception": false,
     "start_time": "2021-02-18T14:57:06.721743",
     "status": "completed"
    },
    "tags": []
   },
   "outputs": [
    {
     "data": {
      "image/png": "[encoded data removed]",
      "text/plain": [
       "<Figure size 432x288 with 1 Axes>"
      ]
     },
     "metadata": {
      "needs_background": "light"
     },
     "output_type": "display_data"
    },
    {
     "name": "stdout",
     "output_type": "stream",
     "text": [
      "Here is the p-value for a two-sample test: 8.624281512273655e-08\n"
     ]
    }
   ],
   "source": [
    "versicolor = iris_dat[iris_dat['Species'] == 'Iris-versicolor']['SepalLengthCm']\n",
    "virginica = iris_dat[iris_dat['Species'] == 'Iris-virginica']['SepalLengthCm']\n",
    "\n",
    "plt.hist(versicolor, color='red', alpha=.5, label='Versicolor')\n",
    "plt.title('Checking for a Normal Distribution')\n",
    "plt.hist(virginica, alpha=.5, label='Virginica')\n",
    "plt.legend()\n",
    "plt.show()\n",
    "\n",
    "print('Here is the p-value for a two-sample test: {}'.format(ttest_ind(virginica, versicolor, alternative='larger')[1])) # two-sample"
   ]
  },
  {
   "cell_type": "markdown",
   "metadata": {
    "papermill": {
     "duration": 0.016581,
     "end_time": "2021-02-18T14:57:06.987676",
     "exception": false,
     "start_time": "2021-02-18T14:57:06.971095",
     "status": "completed"
    },
    "tags": []
   },
   "source": [
    "You can see that the two-sample t-test also has a p-value very close to 0"
   ]
  },
  {
   "cell_type": "markdown",
   "metadata": {
    "papermill": {
     "duration": 0.015383,
     "end_time": "2021-02-18T14:57:07.018697",
     "exception": false,
     "start_time": "2021-02-18T14:57:07.003314",
     "status": "completed"
    },
    "tags": []
   },
   "source": [
    "# Example 2 - Cars Dataset\n",
    "\n",
    "We will use the cars dataset from the UCI Machine Learning Repository to help demonstrate a permutation on a correlation between two variables. We want to know if the correlation between the mpg and weight of a car is significant. We will then use a linear regression to verify our results. The null hypothesis is the correlation is 0 and the alternate hypothesis is that there is a correlation."
   ]
  },
  {
   "cell_type": "code",
   "execution_count": 5,
   "metadata": {
    "execution": {
     "iopub.execute_input": "2021-02-18T14:57:07.060981Z",
     "iopub.status.busy": "2021-02-18T14:57:07.060230Z",
     "iopub.status.idle": "2021-02-18T14:57:07.072872Z",
     "shell.execute_reply": "2021-02-18T14:57:07.072238Z"
    },
    "papermill": {
     "duration": 0.039059,
     "end_time": "2021-02-18T14:57:07.073012",
     "exception": false,
     "start_time": "2021-02-18T14:57:07.033953",
     "status": "completed"
    },
    "tags": []
   },
   "outputs": [
    {
     "data": {
      "text/html": [
       "<div>\n",
       "<style scoped>\n",
       "    .dataframe tbody tr th:only-of-type {\n",
       "        vertical-align: middle;\n",
       "    }\n",
       "\n",
       "    .dataframe tbody tr th {\n",
       "        vertical-align: top;\n",
       "    }\n",
       "\n",
       "    .dataframe thead th {\n",
       "        text-align: right;\n",
       "    }\n",
       "</style>\n",
       "<table border=\"1\" class=\"dataframe\">\n",
       "  <thead>\n",
       "    <tr style=\"text-align: right;\">\n",
       "      <th></th>\n",
       "      <th>mpg</th>\n",
       "      <th>cylinders</th>\n",
       "      <th>displacement</th>\n",
       "      <th>horsepower</th>\n",
       "      <th>weight</th>\n",
       "      <th>acceleration</th>\n",
       "      <th>model year</th>\n",
       "      <th>origin</th>\n",
       "      <th>car name</th>\n",
       "    </tr>\n",
       "  </thead>\n",
       "  <tbody>\n",
       "    <tr>\n",
       "      <th>0</th>\n",
       "      <td>18.0</td>\n",
       "      <td>8</td>\n",
       "      <td>307.0</td>\n",
       "      <td>130</td>\n",
       "      <td>3504</td>\n",
       "      <td>12.0</td>\n",
       "      <td>70</td>\n",
       "      <td>1</td>\n",
       "      <td>chevrolet chevelle malibu</td>\n",
       "    </tr>\n",
       "    <tr>\n",
       "      <th>1</th>\n",
       "      <td>15.0</td>\n",
       "      <td>8</td>\n",
       "      <td>350.0</td>\n",
       "      <td>165</td>\n",
       "      <td>3693</td>\n",
       "      <td>11.5</td>\n",
       "      <td>70</td>\n",
       "      <td>1</td>\n",
       "      <td>buick skylark 320</td>\n",
       "    </tr>\n",
       "    <tr>\n",
       "      <th>2</th>\n",
       "      <td>18.0</td>\n",
       "      <td>8</td>\n",
       "      <td>318.0</td>\n",
       "      <td>150</td>\n",
       "      <td>3436</td>\n",
       "      <td>11.0</td>\n",
       "      <td>70</td>\n",
       "      <td>1</td>\n",
       "      <td>plymouth satellite</td>\n",
       "    </tr>\n",
       "    <tr>\n",
       "      <th>3</th>\n",
       "      <td>16.0</td>\n",
       "      <td>8</td>\n",
       "      <td>304.0</td>\n",
       "      <td>150</td>\n",
       "      <td>3433</td>\n",
       "      <td>12.0</td>\n",
       "      <td>70</td>\n",
       "      <td>1</td>\n",
       "      <td>amc rebel sst</td>\n",
       "    </tr>\n",
       "    <tr>\n",
       "      <th>4</th>\n",
       "      <td>17.0</td>\n",
       "      <td>8</td>\n",
       "      <td>302.0</td>\n",
       "      <td>140</td>\n",
       "      <td>3449</td>\n",
       "      <td>10.5</td>\n",
       "      <td>70</td>\n",
       "      <td>1</td>\n",
       "      <td>ford torino</td>\n",
       "    </tr>\n",
       "    <tr>\n",
       "      <th>5</th>\n",
       "      <td>15.0</td>\n",
       "      <td>8</td>\n",
       "      <td>429.0</td>\n",
       "      <td>198</td>\n",
       "      <td>4341</td>\n",
       "      <td>10.0</td>\n",
       "      <td>70</td>\n",
       "      <td>1</td>\n",
       "      <td>ford galaxie 500</td>\n",
       "    </tr>\n",
       "    <tr>\n",
       "      <th>6</th>\n",
       "      <td>14.0</td>\n",
       "      <td>8</td>\n",
       "      <td>454.0</td>\n",
       "      <td>220</td>\n",
       "      <td>4354</td>\n",
       "      <td>9.0</td>\n",
       "      <td>70</td>\n",
       "      <td>1</td>\n",
       "      <td>chevrolet impala</td>\n",
       "    </tr>\n",
       "    <tr>\n",
       "      <th>7</th>\n",
       "      <td>14.0</td>\n",
       "      <td>8</td>\n",
       "      <td>440.0</td>\n",
       "      <td>215</td>\n",
       "      <td>4312</td>\n",
       "      <td>8.5</td>\n",
       "      <td>70</td>\n",
       "      <td>1</td>\n",
       "      <td>plymouth fury iii</td>\n",
       "    </tr>\n",
       "    <tr>\n",
       "      <th>8</th>\n",
       "      <td>14.0</td>\n",
       "      <td>8</td>\n",
       "      <td>455.0</td>\n",
       "      <td>225</td>\n",
       "      <td>4425</td>\n",
       "      <td>10.0</td>\n",
       "      <td>70</td>\n",
       "      <td>1</td>\n",
       "      <td>pontiac catalina</td>\n",
       "    </tr>\n",
       "    <tr>\n",
       "      <th>9</th>\n",
       "      <td>15.0</td>\n",
       "      <td>8</td>\n",
       "      <td>390.0</td>\n",
       "      <td>190</td>\n",
       "      <td>3850</td>\n",
       "      <td>8.5</td>\n",
       "      <td>70</td>\n",
       "      <td>1</td>\n",
       "      <td>amc ambassador dpl</td>\n",
       "    </tr>\n",
       "  </tbody>\n",
       "</table>\n",
       "</div>"
      ],
      "text/plain": [
       "    mpg  cylinders  displacement horsepower  weight  acceleration  model year  \\\n",
       "0  18.0          8         307.0        130    3504          12.0          70   \n",
       "1  15.0          8         350.0        165    3693          11.5          70   \n",
       "2  18.0          8         318.0        150    3436          11.0          70   \n",
       "3  16.0          8         304.0        150    3433          12.0          70   \n",
       "4  17.0          8         302.0        140    3449          10.5          70   \n",
       "5  15.0          8         429.0        198    4341          10.0          70   \n",
       "6  14.0          8         454.0        220    4354           9.0          70   \n",
       "7  14.0          8         440.0        215    4312           8.5          70   \n",
       "8  14.0          8         455.0        225    4425          10.0          70   \n",
       "9  15.0          8         390.0        190    3850           8.5          70   \n",
       "\n",
       "   origin                   car name  \n",
       "0       1  chevrolet chevelle malibu  \n",
       "1       1          buick skylark 320  \n",
       "2       1         plymouth satellite  \n",
       "3       1              amc rebel sst  \n",
       "4       1                ford torino  \n",
       "5       1           ford galaxie 500  \n",
       "6       1           chevrolet impala  \n",
       "7       1          plymouth fury iii  \n",
       "8       1           pontiac catalina  \n",
       "9       1         amc ambassador dpl  "
      ]
     },
     "execution_count": 5,
     "metadata": {},
     "output_type": "execute_result"
    }
   ],
   "source": [
    "car_dat.head(10)"
   ]
  },
  {
   "cell_type": "code",
   "execution_count": 6,
   "metadata": {
    "execution": {
     "iopub.execute_input": "2021-02-18T14:57:07.129361Z",
     "iopub.status.busy": "2021-02-18T14:57:07.127862Z",
     "iopub.status.idle": "2021-02-18T14:57:07.295850Z",
     "shell.execute_reply": "2021-02-18T14:57:07.295229Z"
    },
    "papermill": {
     "duration": 0.206806,
     "end_time": "2021-02-18T14:57:07.296013",
     "exception": false,
     "start_time": "2021-02-18T14:57:07.089207",
     "status": "completed"
    },
    "tags": []
   },
   "outputs": [
    {
     "data": {
      "text/plain": [
       "Text(0.5, 1.0, 'MPG as a Function of Weight')"
      ]
     },
     "execution_count": 6,
     "metadata": {},
     "output_type": "execute_result"
    },
    {
     "data": {
      "image/png": "[encoded data removed]",
      "text/plain": [
       "<Figure size 432x288 with 1 Axes>"
      ]
     },
     "metadata": {
      "needs_background": "light"
     },
     "output_type": "display_data"
    }
   ],
   "source": [
    "plt.scatter(car_dat['weight'], car_dat['mpg'])\n",
    "plt.ylabel('MPG')\n",
    "plt.xlabel('Weight')\n",
    "plt.title('MPG as a Function of Weight')"
   ]
  },
  {
   "cell_type": "markdown",
   "metadata": {
    "papermill": {
     "duration": 0.01718,
     "end_time": "2021-02-18T14:57:07.331012",
     "exception": false,
     "start_time": "2021-02-18T14:57:07.313832",
     "status": "completed"
    },
    "tags": []
   },
   "source": [
    "You can see that there does seem to be a negative correlation between weight and mpg. Let's test this using a permutation test. "
   ]
  },
  {
   "cell_type": "code",
   "execution_count": 7,
   "metadata": {
    "execution": {
     "iopub.execute_input": "2021-02-18T14:57:07.374817Z",
     "iopub.status.busy": "2021-02-18T14:57:07.374136Z",
     "iopub.status.idle": "2021-02-18T14:57:08.833985Z",
     "shell.execute_reply": "2021-02-18T14:57:08.833378Z"
    },
    "papermill": {
     "duration": 1.48558,
     "end_time": "2021-02-18T14:57:08.834122",
     "exception": false,
     "start_time": "2021-02-18T14:57:07.348542",
     "status": "completed"
    },
    "tags": []
   },
   "outputs": [
    {
     "data": {
      "image/png": "[encoded data removed]",
      "text/plain": [
       "<Figure size 432x288 with 1 Axes>"
      ]
     },
     "metadata": {
      "needs_background": "light"
     },
     "output_type": "display_data"
    },
    {
     "name": "stdout",
     "output_type": "stream",
     "text": [
      "Here is the p-value: 0.0\n"
     ]
    }
   ],
   "source": [
    "# Set the number of iterations to run our permutations\n",
    "x = 1000\n",
    "\n",
    "# Our test statistic is correlation, so we will find our value to test our null hypothesis\n",
    "og_coeff = np.corrcoef(car_dat['mpg'], car_dat['weight'])[0][1]\n",
    "\n",
    "# Create empty dataframe to put correlation coefficients in\n",
    "replicates = np.empty(x)\n",
    "\n",
    "# Run a loop for the number of permutations we want to do\n",
    "for i in range(x):\n",
    "    permuted_dat_base = np.random.permutation(car_dat['mpg']) # permute (shuffle) the data\n",
    "    permuted_dat = pd.concat([pd.Series(permuted_dat_base),car_dat['weight']], axis=1) # re-assign data points to random car weights\n",
    "    replicates[i] = np.corrcoef(permuted_dat.iloc[:,0], permuted_dat['weight'])[0][1] # Add to our empty dataset\n",
    "    \n",
    "# Plot the replicates and compare to the original correlation\n",
    "plt.hist(replicates)\n",
    "plt.axvline(og_coeff\n",
    ", color='red')\n",
    "plt.show()\n",
    "\n",
    "# Compute the p-value\n",
    "p_val = np.sum(replicates <= og_coeff)/len(replicates)\n",
    "print('Here is the p-value: {}'.format(p_val))"
   ]
  },
  {
   "cell_type": "code",
   "execution_count": 8,
   "metadata": {
    "execution": {
     "iopub.execute_input": "2021-02-18T14:57:08.883814Z",
     "iopub.status.busy": "2021-02-18T14:57:08.883139Z",
     "iopub.status.idle": "2021-02-18T14:57:09.076632Z",
     "shell.execute_reply": "2021-02-18T14:57:09.076070Z"
    },
    "papermill": {
     "duration": 0.223877,
     "end_time": "2021-02-18T14:57:09.076774",
     "exception": false,
     "start_time": "2021-02-18T14:57:08.852897",
     "status": "completed"
    },
    "tags": []
   },
   "outputs": [
    {
     "data": {
      "image/png": "[encoded data removed]",
      "text/plain": [
       "<Figure size 432x288 with 1 Axes>"
      ]
     },
     "metadata": {
      "needs_background": "light"
     },
     "output_type": "display_data"
    },
    {
     "data": {
      "text/html": [
       "<table class=\"simpletable\">\n",
       "<caption>OLS Regression Results</caption>\n",
       "<tr>\n",
       "  <th>Dep. Variable:</th>           <td>mpg</td>       <th>  R-squared:         </th> <td>   0.692</td> \n",
       "</tr>\n",
       "<tr>\n",
       "  <th>Model:</th>                   <td>OLS</td>       <th>  Adj. R-squared:    </th> <td>   0.691</td> \n",
       "</tr>\n",
       "<tr>\n",
       "  <th>Method:</th>             <td>Least Squares</td>  <th>  F-statistic:       </th> <td>   888.9</td> \n",
       "</tr>\n",
       "<tr>\n",
       "  <th>Date:</th>             <td>Thu, 18 Feb 2021</td> <th>  Prob (F-statistic):</th> <td>2.97e-103</td>\n",
       "</tr>\n",
       "<tr>\n",
       "  <th>Time:</th>                 <td>14:57:09</td>     <th>  Log-Likelihood:    </th> <td> -1148.4</td> \n",
       "</tr>\n",
       "<tr>\n",
       "  <th>No. Observations:</th>      <td>   398</td>      <th>  AIC:               </th> <td>   2301.</td> \n",
       "</tr>\n",
       "<tr>\n",
       "  <th>Df Residuals:</th>          <td>   396</td>      <th>  BIC:               </th> <td>   2309.</td> \n",
       "</tr>\n",
       "<tr>\n",
       "  <th>Df Model:</th>              <td>     1</td>      <th>                     </th>     <td> </td>    \n",
       "</tr>\n",
       "<tr>\n",
       "  <th>Covariance Type:</th>      <td>nonrobust</td>    <th>                     </th>     <td> </td>    \n",
       "</tr>\n",
       "</table>\n",
       "<table class=\"simpletable\">\n",
       "<tr>\n",
       "      <td></td>         <th>coef</th>     <th>std err</th>      <th>t</th>      <th>P>|t|</th>  <th>[0.025</th>    <th>0.975]</th>  \n",
       "</tr>\n",
       "<tr>\n",
       "  <th>Intercept</th> <td>   46.3174</td> <td>    0.795</td> <td>   58.243</td> <td> 0.000</td> <td>   44.754</td> <td>   47.881</td>\n",
       "</tr>\n",
       "<tr>\n",
       "  <th>weight</th>    <td>   -0.0077</td> <td>    0.000</td> <td>  -29.814</td> <td> 0.000</td> <td>   -0.008</td> <td>   -0.007</td>\n",
       "</tr>\n",
       "</table>\n",
       "<table class=\"simpletable\">\n",
       "<tr>\n",
       "  <th>Omnibus:</th>       <td>40.423</td> <th>  Durbin-Watson:     </th> <td>   0.797</td>\n",
       "</tr>\n",
       "<tr>\n",
       "  <th>Prob(Omnibus):</th> <td> 0.000</td> <th>  Jarque-Bera (JB):  </th> <td>  56.695</td>\n",
       "</tr>\n",
       "<tr>\n",
       "  <th>Skew:</th>          <td> 0.713</td> <th>  Prob(JB):          </th> <td>4.89e-13</td>\n",
       "</tr>\n",
       "<tr>\n",
       "  <th>Kurtosis:</th>      <td> 4.176</td> <th>  Cond. No.          </th> <td>1.13e+04</td>\n",
       "</tr>\n",
       "</table><br/><br/>Notes:<br/>[1] Standard Errors assume that the covariance matrix of the errors is correctly specified.<br/>[2] The condition number is large, 1.13e+04. This might indicate that there are<br/>strong multicollinearity or other numerical problems."
      ],
      "text/plain": [
       "<class 'statsmodels.iolib.summary.Summary'>\n",
       "\"\"\"\n",
       "                            OLS Regression Results                            \n",
       "==============================================================================\n",
       "Dep. Variable:                    mpg   R-squared:                       0.692\n",
       "Model:                            OLS   Adj. R-squared:                  0.691\n",
       "Method:                 Least Squares   F-statistic:                     888.9\n",
       "Date:                Thu, 18 Feb 2021   Prob (F-statistic):          2.97e-103\n",
       "Time:                        14:57:09   Log-Likelihood:                -1148.4\n",
       "No. Observations:                 398   AIC:                             2301.\n",
       "Df Residuals:                     396   BIC:                             2309.\n",
       "Df Model:                           1                                         \n",
       "Covariance Type:            nonrobust                                         \n",
       "==============================================================================\n",
       "                 coef    std err          t      P>|t|      [0.025      0.975]\n",
       "------------------------------------------------------------------------------\n",
       "Intercept     46.3174      0.795     58.243      0.000      44.754      47.881\n",
       "weight        -0.0077      0.000    -29.814      0.000      -0.008      -0.007\n",
       "==============================================================================\n",
       "Omnibus:                       40.423   Durbin-Watson:                   0.797\n",
       "Prob(Omnibus):                  0.000   Jarque-Bera (JB):               56.695\n",
       "Skew:                           0.713   Prob(JB):                     4.89e-13\n",
       "Kurtosis:                       4.176   Cond. No.                     1.13e+04\n",
       "==============================================================================\n",
       "\n",
       "Notes:\n",
       "[1] Standard Errors assume that the covariance matrix of the errors is correctly specified.\n",
       "[2] The condition number is large, 1.13e+04. This might indicate that there are\n",
       "strong multicollinearity or other numerical problems.\n",
       "\"\"\""
      ]
     },
     "metadata": {},
     "output_type": "display_data"
    }
   ],
   "source": [
    "x = sm.ols('mpg ~ weight', data = car_dat).fit()\n",
    "plt.scatter(car_dat['weight'], car_dat['mpg'])\n",
    "plt.plot(car_dat['weight'],x.predict(), color='red')\n",
    "# plt.xlabel('weight')\n",
    "plt.ylabel('MPG')\n",
    "plt.xlabel('Weight')\n",
    "plt.title('MPG as a Function of Weight')\n",
    "plt.show()\n",
    "display(x.summary())\n"
   ]
  },
  {
   "cell_type": "markdown",
   "metadata": {
    "papermill": {
     "duration": 0.020121,
     "end_time": "2021-02-18T14:57:09.117770",
     "exception": false,
     "start_time": "2021-02-18T14:57:09.097649",
     "status": "completed"
    },
    "tags": []
   },
   "source": [
    "# Example 2  - Results Interpretation\n",
    "\n",
    "The p values for both the permutation test was 0 and the linear regression test supports that finding. This is another example of how you can use a permutation test on a metric besides difference of means."
   ]
  },
  {
   "cell_type": "markdown",
   "metadata": {
    "papermill": {
     "duration": 0.020552,
     "end_time": "2021-02-18T14:57:09.158978",
     "exception": false,
     "start_time": "2021-02-18T14:57:09.138426",
     "status": "completed"
    },
    "tags": []
   },
   "source": [
    "# Warning\n",
    "\n",
    "The permutation test doesn't give the same p-value all the time due to the nature of the random shuffling. The histogram below shows a distribution of p-values that were given by a permutation test for data that was built from the same normal distribution. This variability in the p-value will decrease with the size of your data. So be careful with small datasets and  and p-values that are really close to your level of significance. If you wanted to be really strict with deciding whether something is significant or not, you could plot the distribution of the p-values and only use the mean p-value as your final p-value. Variation might also be reduced by using a t-statistic as your test statistic instead of a mean difference."
   ]
  },
  {
   "cell_type": "code",
   "execution_count": 9,
   "metadata": {
    "execution": {
     "iopub.execute_input": "2021-02-18T14:57:09.211296Z",
     "iopub.status.busy": "2021-02-18T14:57:09.210299Z",
     "iopub.status.idle": "2021-02-18T14:58:57.339467Z",
     "shell.execute_reply": "2021-02-18T14:58:57.339983Z"
    },
    "papermill": {
     "duration": 108.160099,
     "end_time": "2021-02-18T14:58:57.340158",
     "exception": false,
     "start_time": "2021-02-18T14:57:09.180059",
     "status": "completed"
    },
    "tags": []
   },
   "outputs": [
    {
     "data": {
      "image/png": "[encoded data removed]",
      "text/plain": [
       "<Figure size 432x288 with 1 Axes>"
      ]
     },
     "metadata": {
      "needs_background": "light"
     },
     "output_type": "display_data"
    }
   ],
   "source": [
    "# Test Datasets\n",
    "data_norm1 = np.random.normal(55,.2,1000)\n",
    "data_norm2  = np.random.normal(55,.2,1000)\n",
    "\n",
    "# Set the number of iterations\n",
    "x = 1000\n",
    "\n",
    "# Create an empty datasets\n",
    "replicates = np.empty(x)\n",
    "p_val = []\n",
    "\n",
    "# Run a loop for the number of p_values we want\n",
    "for z in range(100):\n",
    "    \n",
    "    # Find the difference in means for the original data set\n",
    "    og_mean_diff = np.mean(data_norm1) - np.mean(data_norm2)\n",
    "    \n",
    "    # Run a loop for the number of permutations we want to do\n",
    "    for i in range(x):\n",
    "\n",
    "        # Generate permutation samples\n",
    "        permuted_dat_base = np.random.permutation(data_norm1) # permute (shuffle) the data\n",
    "        permuted_dat = pd.concat([pd.Series(permuted_dat_base),pd.Series(data_norm2)], axis=1) # re-assign data points to random species\n",
    "        replicates[i] = np.mean(permuted_dat.iloc[:,0]) - np.mean(permuted_dat.iloc[:,1])\n",
    "    \n",
    "    # Need to \n",
    "    if og_mean_diff > 0:\n",
    "        p = np.sum(og_mean_diff>=replicates)/len(replicates)\n",
    "    else:\n",
    "        p = np.sum(og_mean_diff<replicates)/len(replicates)\n",
    "    \n",
    "    # Append p-values to my list\n",
    "    p_val.append(p)\n",
    "\n",
    "plt.hist(p_val)\n",
    "plt.show()"
   ]
  },
  {
   "cell_type": "markdown",
   "metadata": {
    "papermill": {
     "duration": 0.021023,
     "end_time": "2021-02-18T14:58:57.382593",
     "exception": false,
     "start_time": "2021-02-18T14:58:57.361570",
     "status": "completed"
    },
    "tags": []
   },
   "source": [
    "# Conclusion\n",
    "\n",
    "In these examples, I used common datasets and compared the results to typical statistical tests. In both situations, the p-values matched the statistical tests you would normally use. In this notebook, I demonstrated the permutation method compared to a typical statistical test in order to increase your confidence to use this test on non-normally distributed datasets. The permutation test is a great tool due to its flexibility to be used on a variety of datasets. Its flexibility is due to that fact that it makes no assumptions about the underlying distribution of your data. I hope you found this useful and can use it in your work, please upvote if you liked the content. Also, any feedback is appreciated! Thanks!"
   ]
  }
 ],
 "metadata": {
  "kernelspec": {
   "display_name": "Python 3",
   "language": "python",
   "name": "python3"
  },
  "language_info": {
   "codemirror_mode": {
    "name": "ipython",
    "version": 3
   },
   "file_extension": ".py",
   "mimetype": "text/x-python",
   "name": "python",
   "nbconvert_exporter": "python",
   "pygments_lexer": "ipython3",
   "version": "3.7.9"
  },
  "papermill": {
   "default_parameters": {},
   "duration": 121.356642,
   "end_time": "2021-02-18T14:58:58.013580",
   "environment_variables": {},
   "exception": null,
   "input_path": "__notebook__.ipynb",
   "output_path": "__notebook__.ipynb",
   "parameters": {},
   "start_time": "2021-02-18T14:56:56.656938",
   "version": "2.2.2"
  }
 },
 "nbformat": 4,
 "nbformat_minor": 4
}
