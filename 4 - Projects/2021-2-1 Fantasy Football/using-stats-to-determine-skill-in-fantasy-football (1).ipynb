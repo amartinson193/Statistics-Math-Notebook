{
 "cells": [
  {
   "cell_type": "markdown",
   "metadata": {
    "papermill": {
     "duration": 0.020202,
     "end_time": "2021-03-03T03:02:18.174961",
     "exception": false,
     "start_time": "2021-03-03T03:02:18.154759",
     "status": "completed"
    },
    "tags": []
   },
   "source": [
    "# Using Statistics to Determine Skill in Fantasy Football [Scipy/Numpy]"
   ]
  },
  {
   "cell_type": "markdown",
   "metadata": {
    "papermill": {
     "duration": 0.017883,
     "end_time": "2021-03-03T03:02:18.212029",
     "exception": false,
     "start_time": "2021-03-03T03:02:18.194146",
     "status": "completed"
    },
    "tags": []
   },
   "source": [
    "![](https://images.unsplash.com/photo-1490298357607-5dbac0afa2b2?ixlib=rb-1.2.1&ixid=MXwxMjA3fDB8MHxwaG90by1wYWdlfHx8fGVufDB8fHw%3D&auto=format&fit=crop&w=1225&q=80)\n",
    "\n",
    "Photo Credit: Unsplash - Keith Johnston"
   ]
  },
  {
   "cell_type": "markdown",
   "metadata": {
    "papermill": {
     "duration": 0.018039,
     "end_time": "2021-03-03T03:02:18.249134",
     "exception": false,
     "start_time": "2021-03-03T03:02:18.231095",
     "status": "completed"
    },
    "tags": []
   },
   "source": [
    "# Table of Contents\n",
    "* Importing all required packages\n",
    "* Introduction - Did This Season \"Count\"?\n",
    "* Question #1: Were individual player's results due to random chance?\n",
    "    * Q1: Explanation of my approach\n",
    "    * Q1: The code\n",
    "    * Q1: Answer\n",
    "* Tangent #1: Combinations, Permutations, and Runs\n",
    "* Question #2: Did the outcome of the league as a whole show that we performed better than chance?\n",
    "    * Q2: Explanation of my approach\n",
    "    * Q2: The code\n",
    "    * Q2: Answer\n",
    "* Tangent #2: Binning Bias\n",
    "* Question #3: When comparing the first half of the season to the second half, do players results stay consistent?\n",
    "    * Q3: Explanation of my approach\n",
    "    * Q3: The code\n",
    "    * Q3: Answer\n",
    "* Conclusion\n",
    "* References"
   ]
  },
  {
   "cell_type": "markdown",
   "metadata": {
    "papermill": {
     "duration": 0.018025,
     "end_time": "2021-03-03T03:02:18.285182",
     "exception": false,
     "start_time": "2021-03-03T03:02:18.267157",
     "status": "completed"
    },
    "tags": []
   },
   "source": [
    "# Importing all required packages"
   ]
  },
  {
   "cell_type": "code",
   "execution_count": 1,
   "metadata": {
    "execution": {
     "iopub.execute_input": "2021-03-03T03:02:18.329582Z",
     "iopub.status.busy": "2021-03-03T03:02:18.328924Z",
     "iopub.status.idle": "2021-03-03T03:02:19.156524Z",
     "shell.execute_reply": "2021-03-03T03:02:19.157081Z"
    },
    "papermill": {
     "duration": 0.853305,
     "end_time": "2021-03-03T03:02:19.157426",
     "exception": false,
     "start_time": "2021-03-03T03:02:18.304121",
     "status": "completed"
    },
    "tags": []
   },
   "outputs": [],
   "source": [
    "import numpy as np\n",
    "import pandas as pd\n",
    "import matplotlib.pyplot as plt\n",
    "import itertools\n",
    "from scipy import stats"
   ]
  },
  {
   "cell_type": "markdown",
   "metadata": {
    "papermill": {
     "duration": 0.019091,
     "end_time": "2021-03-03T03:02:19.195573",
     "exception": false,
     "start_time": "2021-03-03T03:02:19.176482",
     "status": "completed"
    },
    "tags": []
   },
   "source": [
    "# Introduction - Did This Season 'Count'?\n",
    "\n",
    "==>**TLDR**: I played fantasy football for the first time and wondered if the win results were due to random chance or not.\n",
    "\n",
    "This was my first year participating in Fantasy Football. I joined my coworkers and chatted throughout the season through Microsoft Teams, making trades and bragging when we got a win with some gifs. Our league had 14 people in it, which made finding good players on waivers difficult (i.e. swapping players mid-season). COVID-19 added to the difficulty of playing with 14 teams; we had to swap out players more frequently when some got sick, not to mention the players that were already getting injured or suspended. The frustration with the season was exemplified by a coworker who changed his team name to 'This Season Doesn't Count'.\n",
    "\n",
    "After the season ended, I wondered if the season really did 'count'. Despite all of the unpredictable events, could some of the results be explained by my coworkers skill? Or could all results just be chalked up to chance?\n",
    "\n",
    "To be fair, I'm not the first person who has wondered this. The fantasy sports website FanDuel actually approached MIT to help figure out if players results were due to random chance or not. This article explains their findings (the article title gives away the end result): [Researchers find most fantasy sports are based on skill, not luck](https://phys.org/news/2018-11-fantasy-sports-based-skill-luck.html). \n",
    "\n",
    "Despite MIT findings, I want to know if either my performance or my league's performance was due to chance or not. MIT was looking at the macro view (the whole industry) and I am looking at the micro view (just myself and my league). "
   ]
  },
  {
   "cell_type": "markdown",
   "metadata": {
    "papermill": {
     "duration": 0.018523,
     "end_time": "2021-03-03T03:02:19.232555",
     "exception": false,
     "start_time": "2021-03-03T03:02:19.214032",
     "status": "completed"
    },
    "tags": []
   },
   "source": [
    "![](https://images.unsplash.com/photo-1610719887095-1c2d1486be5e?ixid=MXwxMjA3fDB8MHxwaG90by1wYWdlfHx8fGVufDB8fHw%3D&ixlib=rb-1.2.1&auto=format&fit=crop&w=1350&q=80)\n",
    "Photo Credit: Unsplash - Andy Henderson"
   ]
  },
  {
   "cell_type": "markdown",
   "metadata": {
    "papermill": {
     "duration": 0.017943,
     "end_time": "2021-03-03T03:02:19.269210",
     "exception": false,
     "start_time": "2021-03-03T03:02:19.251267",
     "status": "completed"
    },
    "tags": []
   },
   "source": [
    "# Question #1: Were individual player's results due to random chance?\n",
    "\n",
    "## Q1: Explanation of my approach\n",
    "\n",
    "==>**TLDR**: I use a binomial test (since my data is normally distributed) to start answering my questions. A binomial distribution differs from a normal distribution.\n",
    "\n",
    "In this notebook, I will use the binomial test, a foundational concept in statistics, to address my questions. The binomial test can be used when your data follows a binomial distribution. If you don't remember what a binomial distribution is, it's simply something that has 2 outcomes (that's where the 'bi' in the name comes from). A coin toss is the simplest example of a binomial.\n",
    "\n",
    "The first thing to establish is that this is not a normal distribution. The distinction between the two is that a binomial is based on discrete variables and a normal distribution is based on continuous variables.\n",
    "\n",
    "I'm currently in my Master's and decided to ask my stats professor if I could use binomial distributions to help determine if the number of wins a player gets in a tournament is considered 'significant' or not. She said that it's a good start, which is all I can ask for to go ahead and start looking into seeing what we get. So without further ado, I will go ahead and try and answer some of these questions!\n",
    "\n",
    "Before we continue, I should mention that in order to use a binomial distribution to test for significance, your data should meet the following 4 assumptions:\n",
    "1. Fixed number of trials\n",
    "2. Independent trials\n",
    "3. Two different classifications\n",
    "4. The probability of success stays the same for all trials\n",
    "\n",
    "Here is the source article, which is one of many websites verifying these same assumptions:\n",
    "[When Do You Use a Binomial Distribution?](https://www.thoughtco.com/when-to-use-binomial-distribution-3126596)\n",
    "\n",
    "If you are new to using statistics in your work, one thing to always remember is that any statistical test relies on assumptions about the data and you should always check these assumptions before running the statistical analysis.\n",
    "\n",
    "P.S. Please let me know if you have a better/different solution to this problem. See below for my work, any feedback is appreciated!"
   ]
  },
  {
   "cell_type": "markdown",
   "metadata": {
    "papermill": {
     "duration": 0.017765,
     "end_time": "2021-03-03T03:02:19.305423",
     "exception": false,
     "start_time": "2021-03-03T03:02:19.287658",
     "status": "completed"
    },
    "tags": []
   },
   "source": [
    "## Q1: The code\n",
    "\n",
    "==>**TLDR**: I state my hypothesis and set the significance level\n",
    "\n",
    "Before I go through the code and after I checked the assumptions, I still need to establish my null and alternate hypothesis:\n",
    "\n",
    "$$H_o= \\text{Player's outcomes were due to random chance (probability of winning=.5)}$$\n",
    "$$H_a= \\text{Player's outcomes were due to skill (probability of winning>.5)}$$\n",
    "\n",
    "My significance level is .05 for this test. This means that a type I error (possibility of a false positive) would only occur 5% of the time if I reject the null hypothesis. For a binomial distribution and for this example, this means that 95% of all possible outcomes will be below the number of points that a player achieved. \n",
    "\n",
    "To clarify, the specific question I am answering is, \"How many wins does it take for me to be confident the results were not due to random chance (that the player is actually skilled)?\""
   ]
  },
  {
   "cell_type": "code",
   "execution_count": 2,
   "metadata": {
    "execution": {
     "iopub.execute_input": "2021-03-03T03:02:19.345069Z",
     "iopub.status.busy": "2021-03-03T03:02:19.344357Z",
     "iopub.status.idle": "2021-03-03T03:02:19.612766Z",
     "shell.execute_reply": "2021-03-03T03:02:19.613251Z"
    },
    "papermill": {
     "duration": 0.289831,
     "end_time": "2021-03-03T03:02:19.613418",
     "exception": false,
     "start_time": "2021-03-03T03:02:19.323587",
     "status": "completed"
    },
    "tags": []
   },
   "outputs": [
    {
     "data": {
      "image/png": "[encoded data removed]",
      "text/plain": [
       "<Figure size 432x288 with 1 Axes>"
      ]
     },
     "metadata": {
      "needs_background": "light"
     },
     "output_type": "display_data"
    },
    {
     "name": "stdout",
     "output_type": "stream",
     "text": [
      "1-3 wins looks like it is below 5% and >=10 is below 5% of the total permutations for 13 rounds in the binomial distribution above\n"
     ]
    }
   ],
   "source": [
    "# Import the data\n",
    "dat = pd.read_csv('/kaggle/input/fantasy-football-performance/Fantasy Football Performance.csv', index_col=0)\n",
    "\n",
    "# Drop all rows that don't have any data\n",
    "dat.dropna(how='all', inplace=True) \n",
    "\n",
    "# Sum the number of wins per team for the 13 rounds played (I'm excluding playoffs in my analysis)\n",
    "wins_per_team = dat.sum(axis=1)\n",
    "\n",
    "# Set variables for numpy binomial function\n",
    "iterations = 10000\n",
    "rounds = 13\n",
    "probability = .5\n",
    "\n",
    "# Create simulated binomial distribution data\n",
    "wins = np.random.binomial(rounds, probability,iterations)\n",
    "\n",
    "# Plot the binomial distribution - the graph represent the number of permutations with replacement for 13 rounds.\n",
    "# See the 'tangent' section below for more information about permutations\n",
    "fig, ax = plt.subplots()\n",
    "plt.hist(wins, rwidth=.8, bins=13, density=True)\n",
    "ax.set(xlabel='Number of Wins', ylabel='Percent of Total Rounds', title='Binomial Distribution of Player Win Count Probability for 13 rounds')\n",
    "plt.show()\n",
    "\n",
    "print('1-3 wins looks like it is below 5% and >=10 is below 5% of the total permutations for 13 rounds in the binomial distribution above')"
   ]
  },
  {
   "cell_type": "markdown",
   "metadata": {
    "papermill": {
     "duration": 0.01893,
     "end_time": "2021-03-03T03:02:19.652036",
     "exception": false,
     "start_time": "2021-03-03T03:02:19.633106",
     "status": "completed"
    },
    "tags": []
   },
   "source": [
    "To confirm what we are seeing above for our threshold of significance (>=10 wins), we can look at the percentile range of the simulated data"
   ]
  },
  {
   "cell_type": "code",
   "execution_count": 3,
   "metadata": {
    "execution": {
     "iopub.execute_input": "2021-03-03T03:02:19.694753Z",
     "iopub.status.busy": "2021-03-03T03:02:19.693782Z",
     "iopub.status.idle": "2021-03-03T03:02:19.752662Z",
     "shell.execute_reply": "2021-03-03T03:02:19.751626Z"
    },
    "papermill": {
     "duration": 0.081422,
     "end_time": "2021-03-03T03:02:19.752880",
     "exception": false,
     "start_time": "2021-03-03T03:02:19.671458",
     "status": "completed"
    },
    "tags": []
   },
   "outputs": [
    {
     "name": "stdout",
     "output_type": "stream",
     "text": [
      "The lower bound for significance is 3.0 and the upper bound is 10.0\n",
      "You can see that the p-value for the test is 0.046, which is below our 5% significance level. This is close to the simulated data p-value of 0.045. for 10 wins and above\n"
     ]
    }
   ],
   "source": [
    "# To get our upper and lower bounds, we simply find the percentiles so define where 95% of the data lies\n",
    "lower, upper = np.percentile(wins, [2.5,97.5]) # \n",
    "\n",
    "print('The lower bound for significance is {} and the upper bound is {}'.format(lower, upper))\n",
    "\n",
    "# We can look at the number of permutations above 10 to see what our significance level is set at\n",
    "sim_p = sum(wins >= 10)/len(wins)\n",
    "\n",
    "# Now that you know how the binomial distribution works, here is how you would verify this information using the binom_test function from scipy\n",
    "p = stats.binom_test(10,13, alternative='greater') \n",
    "\n",
    "print('You can see that the p-value for the test is {:.3f}, which is below our 5% significance level. This is close to the simulated data p-value \\\n",
    "of {:.3f}. for 10 wins and above'.format(p, sim_p))"
   ]
  },
  {
   "cell_type": "markdown",
   "metadata": {
    "papermill": {
     "duration": 0.019595,
     "end_time": "2021-03-03T03:02:19.793118",
     "exception": false,
     "start_time": "2021-03-03T03:02:19.773523",
     "status": "completed"
    },
    "tags": []
   },
   "source": [
    "## Q1: Answer\n",
    "\n",
    "Here were the results per team:"
   ]
  },
  {
   "cell_type": "code",
   "execution_count": 4,
   "metadata": {
    "execution": {
     "iopub.execute_input": "2021-03-03T03:02:19.842824Z",
     "iopub.status.busy": "2021-03-03T03:02:19.841794Z",
     "iopub.status.idle": "2021-03-03T03:02:19.847132Z",
     "shell.execute_reply": "2021-03-03T03:02:19.846474Z"
    },
    "papermill": {
     "duration": 0.033423,
     "end_time": "2021-03-03T03:02:19.847281",
     "exception": false,
     "start_time": "2021-03-03T03:02:19.813858",
     "status": "completed"
    },
    "tags": []
   },
   "outputs": [
    {
     "data": {
      "text/plain": [
       "Team Name\n",
       "A Team                            7.0\n",
       "Brookshire Pass-a-away            6.0\n",
       "Comeback Kids                     3.0\n",
       "Favre from Over                   4.0\n",
       "Give Me All The Bacon And Eggs    9.0\n",
       "It's Tua Time                     6.0\n",
       "Jen's Jams                        7.0\n",
       "Marauding Magpies                 7.0\n",
       "MiddleEarth Northern Rangers      9.0\n",
       "Mike's Castell Cougars            7.0\n",
       "The Brady Bunch                   5.0\n",
       "This Season Doesn't Count         9.0\n",
       "Tracy's Toughies                  5.0\n",
       "WRONG LEVEL GRONK                 6.0\n",
       "dtype: float64"
      ]
     },
     "execution_count": 4,
     "metadata": {},
     "output_type": "execute_result"
    }
   ],
   "source": [
    "wins_per_team"
   ]
  },
  {
   "cell_type": "markdown",
   "metadata": {
    "papermill": {
     "duration": 0.020645,
     "end_time": "2021-03-03T03:02:19.888521",
     "exception": false,
     "start_time": "2021-03-03T03:02:19.867876",
     "status": "completed"
    },
    "tags": []
   },
   "source": [
    "A player needed 10 or more wins for their results to not be attributed to chance. You can see that this was not the case and we fail to reject the null hypothesis. So it seems that we can't claim any player in the league was considered skilled (including me - my team name was called the 'A Team' and I only got 7 wins)."
   ]
  },
  {
   "cell_type": "markdown",
   "metadata": {
    "papermill": {
     "duration": 0.019904,
     "end_time": "2021-03-03T03:02:19.930235",
     "exception": false,
     "start_time": "2021-03-03T03:02:19.910331",
     "status": "completed"
    },
    "tags": []
   },
   "source": [
    "------------------------------------------------------------------------------------\n",
    "# Tangent #1: Combinations, Permutations, and Runs\n",
    "\n",
    "One thing I had to get straight when going through this was the differences between combinations, permutations, and runs. Basically a permutation is finding the number of possibilities where ordering matters and combinations is finding the number of possibilities where ordering does not matter.\n",
    "\n",
    "==>**TLDR**: Here are 3 examples of combinations, permutations, and runs using coin flips as an example:\n",
    "1. Runs: The probability of getting 3 heads in a row - e.g. .5 * .5 * .5 (.5^3)\n",
    "2. Permutations with Replacement: An easy way to remember permutations is that it means simply shuffling the data around. The number of possibilites for 5 possible coin flips **where ordering matters**. This is what a binomial represents. For example, if you want to know the probability of getting 3 heads out of 5 coin tosses, you first find the number of permutations with replacement. This is done by taking the number of outcomes (2) multiplied by itself the number of trials completed. So in this case this is 2^5 or 32 outcomes that are possible. Then you find the number of outcomes that have 3 heads. In this case it is 10 so 10/32 = 31.25%. This means that we can expect 31.25% of the times when we flip 5 heads that we will get exactly 3 heads.\n",
    "3. Permutations without Replacement: The number of possibilities for ordering a coin flip. Again, **ordering matters** since this is a permutation. For a coin this only two since there is either heads or tails or tails or heads. This is calculated using factorials. So a coin is 2! (i.e. 2 * 1).\n",
    "4. Combinations: The number of possibilities **where ordering doesn't matter**. The number of combinations for a coin is 2 if you only choose one since when you flip the coin you can get either heads or tails. The typical way to state this combination for example would be 2 choose 1. 2 represents the number of objects in the set (heads or tails) and 1 represents the number of objects chosen from the set.\n",
    "\n",
    "Combinations don't apply to binomials, since binomials are permutations with replacement. However, they are still important to understand for other statistical applications. Here is the formula for combinations:\n",
    "\n",
    "$${n \\choose r} = \\frac{n!}{r!(n-r)!}\\quad$$\n",
    "\n",
    "As an example of another application, I'm going to use dice instead of coins since there are more than 2 possibilities. Imagine a dice with 3 sides. 3 choose 1 is 3 since there are 3 outcomes, 3 choose 2 is 3 - it can only be 12,13,23. It is 3* 2/2* 1 (the combinations formula in this case is 3!/2!(3!-2!))\n",
    "\n",
    "Here is a good article for differentiating between permutations and combinations: [Combinations vs Permutations](https://medium.com/i-math/combinations-permutations-fa7ac680f0ac)"
   ]
  },
  {
   "cell_type": "markdown",
   "metadata": {
    "papermill": {
     "duration": 0.020121,
     "end_time": "2021-03-03T03:02:19.970670",
     "exception": false,
     "start_time": "2021-03-03T03:02:19.950549",
     "status": "completed"
    },
    "tags": []
   },
   "source": [
    "## If you want more in-depth explanations, keep reading below. Otherwise feel free to skip to question #2"
   ]
  },
  {
   "cell_type": "markdown",
   "metadata": {
    "papermill": {
     "duration": 0.019966,
     "end_time": "2021-03-03T03:02:20.011074",
     "exception": false,
     "start_time": "2021-03-03T03:02:19.991108",
     "status": "completed"
    },
    "tags": []
   },
   "source": [
    "* ### Runs\n",
    "\n",
    "So first off is runs. We can use the classic coin flip to help explain what I mean. The chance of flipping heads or tails is 50%. Well, if we flip that coin 5 times, what is the chance that we will get 3 heads in a row. That is 50% to the 3rd power or .5 * .5 * .5, which is a 12.5% chance that you will get 3 heads in a row. Ok, so that's the run.\n",
    "\n",
    "* ### Permutations with Replacement\n",
    "\n",
    "**A binomial distribution is showing the number of permutations with replacement**. A permutation is the number of possibilites that you have when you shuffle around the outcomes, it is the number of outcomes in your problem space. The main difference between a permutation and combination is that in a permutation, ordering matters. In the code below, I show the number of permutations for 5 coin tosses."
   ]
  },
  {
   "cell_type": "code",
   "execution_count": 5,
   "metadata": {
    "execution": {
     "iopub.execute_input": "2021-03-03T03:02:20.064397Z",
     "iopub.status.busy": "2021-03-03T03:02:20.063423Z",
     "iopub.status.idle": "2021-03-03T03:02:20.069295Z",
     "shell.execute_reply": "2021-03-03T03:02:20.069813Z"
    },
    "papermill": {
     "duration": 0.0383,
     "end_time": "2021-03-03T03:02:20.069987",
     "exception": false,
     "start_time": "2021-03-03T03:02:20.031687",
     "status": "completed"
    },
    "tags": []
   },
   "outputs": [
    {
     "name": "stdout",
     "output_type": "stream",
     "text": [
      "There are 32 permutations for 5 coin flips \n",
      "\n",
      "Here are all of the combinations listed out, without repeating a sequence\n"
     ]
    },
    {
     "data": {
      "text/plain": [
       "[('H', 'H', 'H', 'H', 'H'),\n",
       " ('H', 'H', 'H', 'H', 'T'),\n",
       " ('H', 'H', 'H', 'T', 'H'),\n",
       " ('H', 'H', 'H', 'T', 'T'),\n",
       " ('H', 'H', 'T', 'H', 'H'),\n",
       " ('H', 'H', 'T', 'H', 'T'),\n",
       " ('H', 'H', 'T', 'T', 'H'),\n",
       " ('H', 'H', 'T', 'T', 'T'),\n",
       " ('H', 'T', 'H', 'H', 'H'),\n",
       " ('H', 'T', 'H', 'H', 'T'),\n",
       " ('H', 'T', 'H', 'T', 'H'),\n",
       " ('H', 'T', 'H', 'T', 'T'),\n",
       " ('H', 'T', 'T', 'H', 'H'),\n",
       " ('H', 'T', 'T', 'H', 'T'),\n",
       " ('H', 'T', 'T', 'T', 'H'),\n",
       " ('H', 'T', 'T', 'T', 'T'),\n",
       " ('T', 'H', 'H', 'H', 'H'),\n",
       " ('T', 'H', 'H', 'H', 'T'),\n",
       " ('T', 'H', 'H', 'T', 'H'),\n",
       " ('T', 'H', 'H', 'T', 'T'),\n",
       " ('T', 'H', 'T', 'H', 'H'),\n",
       " ('T', 'H', 'T', 'H', 'T'),\n",
       " ('T', 'H', 'T', 'T', 'H'),\n",
       " ('T', 'H', 'T', 'T', 'T'),\n",
       " ('T', 'T', 'H', 'H', 'H'),\n",
       " ('T', 'T', 'H', 'H', 'T'),\n",
       " ('T', 'T', 'H', 'T', 'H'),\n",
       " ('T', 'T', 'H', 'T', 'T'),\n",
       " ('T', 'T', 'T', 'H', 'H'),\n",
       " ('T', 'T', 'T', 'H', 'T'),\n",
       " ('T', 'T', 'T', 'T', 'H'),\n",
       " ('T', 'T', 'T', 'T', 'T')]"
      ]
     },
     "execution_count": 5,
     "metadata": {},
     "output_type": "execute_result"
    }
   ],
   "source": [
    "# Printing out the number of possibilities for H (Heads) and T (Tails)\n",
    "coin_flips = list(itertools.product(\"HT\", repeat=5))\n",
    "print('There are {} permutations for 5 coin flips \\n'.format(len(coin_flips)))\n",
    "\n",
    "print('Here are all of the combinations listed out, without repeating a sequence')\n",
    "coin_flips"
   ]
  },
  {
   "cell_type": "markdown",
   "metadata": {
    "papermill": {
     "duration": 0.020919,
     "end_time": "2021-03-03T03:02:20.112761",
     "exception": false,
     "start_time": "2021-03-03T03:02:20.091842",
     "status": "completed"
    },
    "tags": []
   },
   "source": [
    "You can see there are 32 permutations. You can plot the binomial distribution by taking what we had above. This will plot the theoretical binomial distribution."
   ]
  },
  {
   "cell_type": "code",
   "execution_count": 6,
   "metadata": {
    "execution": {
     "iopub.execute_input": "2021-03-03T03:02:20.163365Z",
     "iopub.status.busy": "2021-03-03T03:02:20.162207Z",
     "iopub.status.idle": "2021-03-03T03:02:20.349178Z",
     "shell.execute_reply": "2021-03-03T03:02:20.348335Z"
    },
    "papermill": {
     "duration": 0.215093,
     "end_time": "2021-03-03T03:02:20.349340",
     "exception": false,
     "start_time": "2021-03-03T03:02:20.134247",
     "status": "completed"
    },
    "tags": []
   },
   "outputs": [
    {
     "data": {
      "image/png": "[encoded data removed]",
      "text/plain": [
       "<Figure size 432x288 with 1 Axes>"
      ]
     },
     "metadata": {
      "needs_background": "light"
     },
     "output_type": "display_data"
    },
    {
     "name": "stdout",
     "output_type": "stream",
     "text": [
      "If you look at the distribution above, you can see 62.5% of the wins have 2 or 3 flips, 31.25% have 1 or 4, and 6.25% have 0 or 5 heads \n",
      "\n",
      "Here are the counts:\n",
      "0     1\n",
      "1     5\n",
      "2    10\n",
      "3    10\n",
      "4     5\n",
      "5     1\n",
      "dtype: int64\n"
     ]
    }
   ],
   "source": [
    "# Counting the number of heads\n",
    "count_wins = []\n",
    "for i in coin_flips:\n",
    "    count_wins.append(list(i).count('H'))\n",
    "\n",
    "# Plotting the theoretical binomial distribution for 5 coin flips\n",
    "fig, ax = plt.subplots()\n",
    "plt.hist(count_wins, rwidth=.8, density=True)\n",
    "ax.set(xlabel='Number of Heads', ylabel='Percent of Permutations', title='Binomial Distribution for 5 Coin Flips')\n",
    "plt.show()\n",
    "\n",
    "grouped = pd.Series(count_wins).value_counts().sort_index()\n",
    "\n",
    "print('If you look at the distribution above, you can see 62.5% of the wins have 2 or 3 flips, 31.25% have 1 or 4, and 6.25% have 0 or 5 heads \\n')\n",
    "print('Here are the counts:')\n",
    "print(grouped)"
   ]
  },
  {
   "cell_type": "markdown",
   "metadata": {
    "papermill": {
     "duration": 0.022321,
     "end_time": "2021-03-03T03:02:20.394341",
     "exception": false,
     "start_time": "2021-03-03T03:02:20.372020",
     "status": "completed"
    },
    "tags": []
   },
   "source": [
    "* ### Permutations without Replacement\n",
    "\n",
    "This is the number of possibilities if you can't repeat any outcome. With a coin, there are only two permutations without replacement since there is just HT (Heads/Tails) or TH (Tails/Heads). If we had something like a 3 sided dice, it would be 3! (pronounced 3 factorial) or written another way: 3 * 2 * 1 = 6. \n",
    "\n",
    "* ### Combinations\n",
    "\n",
    "This is the number of possibilities where ordering doesn't matter. So if we had 3 coins, how many different combinations are there irrespective of heads or tails? If we just thought about heads or tails, the answer for 2 choose 1 is 2 since there is either heads or tails (the term '2 choose 1' is how you normally describe combinations - I described this above, but the wikipedia article on combinations also explains this). Refer to the TLDR for this section for the combinations formula.\n",
    "\n",
    "Additionally, 2 choose 2 is only 1 since ordering doesn't matter. But if we had 3 coins, you would have 3 * 2 /2 * 1 or 3 combos. This would be the following combinations: coins 1&3, coins 1&2, and coins 2&3. \n",
    "\n",
    "Notice in the denominator for a combination it is the permutations without replacement for the number of samples you choose from the set. By dividing the numerator by permutations without replacement, we eliminate the importance of ordering. \n",
    "\n",
    "We won't use combinations in this analysis, but it's important to understand the difference of combinations and permutations before continuing in order to set a foundation for what's going on in the binomial function."
   ]
  },
  {
   "cell_type": "markdown",
   "metadata": {
    "papermill": {
     "duration": 0.0222,
     "end_time": "2021-03-03T03:02:20.439635",
     "exception": false,
     "start_time": "2021-03-03T03:02:20.417435",
     "status": "completed"
    },
    "tags": []
   },
   "source": [
    "----------------------------------------------------------------------------------------------------------------\n",
    "\n",
    "# Question #2: Did the outcome of the league as a whole show that we performed better than chance?\n",
    "\n",
    "## Q2: Explanation of my approach\n",
    "\n",
    "==> **TLDR**: I use binomial tests on the league data too since the sum of multiple binomial distributions from individual players equals the league's binomial distribution in aggregate\n",
    "\n",
    "Every individual player's results were due to random chance according to question one. Question two looks at the league's results and asks the same question, 'were the league's results different from random chance?' This is basically to see if we have some sort of [Simpson's paradox](https://en.wikipedia.org/wiki/Simpson%27s_paradox#:~:text=Simpson's%20paradox%2C%20which%20also%20goes,when%20these%20groups%20are%20combined.) that might be occurring and is just another check on our data to see if anything other than random chance was going on. \n",
    "\n",
    "For this section, I'll combine the binomial distributions for each player to answer this question. The reason I am doing this instead of t-test is because this is not a normal distribution since it is based on discrete events. The only resource I found with a quick google search that tries to explain this in more depth can be found [here](https://www.researchgate.net/post/How_do_I_do_a_nonparametric_Binomial_Test_or_One-sample_t-Test). However, because of the central limit theorem, with enough trials a binomial distribution (also called Bernoulli distribution) approximates a normal distribution (also called a Gaussian distribution). Proving this is beyond the scope of this article, but feel free to look at these resources:\n",
    "* [Dartmouth Textbook - Central Limit Theorem](https://www.dartmouth.edu/~chance/teaching_aids/books_articles/probability_book/Chapter9.pdf)\n",
    "* [Boston College Textbook - Central Limit Theorem](https://sphweb.bumc.bu.edu/otlt/MPH-Modules/BS/BS704_Probability/BS704_Probability12.html#:~:text=The%20Central%20Limit%20Theorem%20applies,success%22%20on%20any%20given%20trial)\n",
    "\n",
    "For my purposes, I will keep using binomial tests for binomial distributions since I don't quite understand the differences in p-values that I see and I know the binomial test in this context is more reliable. For example, if our league mean is 6.5 and the population mean is expected to be 6.5 (13 rounds * 50% chance), then we get a p-value of 1. However, with a binomial distribution, we get a p-value < 1. Please let me know if you understand this better than me and want to help explain it :)\n",
    "\n",
    "Finally, combining binomial distributions is ok as long as the probabilities for the various binomial distributions were the same. Here are the two sources I used to corroborate this: \n",
    "* [Source one](https://en.wikipedia.org/wiki/Binomial_sum_variance_inequality#:~:text=In%20probability%20theory%20and%20statistics,the%20sum%20is%20not%20binomial_)\n",
    "* [Source two](https://math.stackexchange.com/questions/1176385/sum-of-two-independent-binomial-variables)"
   ]
  },
  {
   "cell_type": "markdown",
   "metadata": {
    "papermill": {
     "duration": 0.02252,
     "end_time": "2021-03-03T03:02:20.484782",
     "exception": false,
     "start_time": "2021-03-03T03:02:20.462262",
     "status": "completed"
    },
    "tags": []
   },
   "source": [
    " ## Q2: The Code\n",
    " \n",
    " Again, here is my null and alternate hypothesis:\n",
    " \n",
    "$$H_o= \\text{The league's outcome was due to random chance (probability of winning=.5)}$$\n",
    "$$H_a= \\text{The league's outcomes were due to skill (probability of winning>.5)}$$\n",
    "\n",
    "The significance level is set at 5% again as well."
   ]
  },
  {
   "cell_type": "code",
   "execution_count": 7,
   "metadata": {
    "execution": {
     "iopub.execute_input": "2021-03-03T03:02:20.623143Z",
     "iopub.status.busy": "2021-03-03T03:02:20.538882Z",
     "iopub.status.idle": "2021-03-03T03:02:20.900975Z",
     "shell.execute_reply": "2021-03-03T03:02:20.900015Z"
    },
    "papermill": {
     "duration": 0.393781,
     "end_time": "2021-03-03T03:02:20.901140",
     "exception": false,
     "start_time": "2021-03-03T03:02:20.507359",
     "status": "completed"
    },
    "tags": []
   },
   "outputs": [
    {
     "data": {
      "image/png": "[encoded data removed]",
      "text/plain": [
       "<Figure size 432x288 with 1 Axes>"
      ]
     },
     "metadata": {
      "needs_background": "light"
     },
     "output_type": "display_data"
    },
    {
     "name": "stdout",
     "output_type": "stream",
     "text": [
      "This is the cumulative number of wins starting from 0: [8192, 8191, 8178, 8100, 7814, 7099, 5812, 4096, 2380, 1093, 378, 92, 14, 1]\n",
      "\n",
      "Here is the result when we use the binom scipy function: 0.13342285 and here is the result from our manual calculation 0.13342285. You can see that we match exactly since we understand the theory behind binomial distributions correctly.\n",
      "\n",
      "Calculating the binomial distribution for all players combined is where we can't really do this manually anymore since the method we use above isn't very efficient. We would have to find the permutations for 182 rounds, which is 2^182. That is A LOT of combinations. We can get close to the true p-value by multiplying by 14 instead. I will do that and then show the answer using the binom_test function.\n",
      "\n",
      "This is the approximate p-value for the league's binomial distribution using our manual calculation: 0.586\n",
      "\n",
      "This is the actual p-value for the league's binomial distribution: 0.588\n",
      "\n",
      "You wouldn't use a t-Test for this analysis, but this here is the result for a t-Test to demonstrate:  Ttest_1sampResult(statistic=-0.14622441296639993, pvalue=0.8859873645809911)\n",
      "\n",
      "If the mean of the data was 6.5, you get a p-value of 1, while a binomial test would be < 1\n"
     ]
    }
   ],
   "source": [
    "# Create the binomial distribution using permutations with replacement (ordering matters)\n",
    "num_wins = list(itertools.product(\"WL\", repeat=13))\n",
    "num_wins = [x.count('W') for x in num_wins]\n",
    "\n",
    "# Plot the data - this is the binomial distribution for each player. \n",
    "fig, ax = plt.subplots()\n",
    "plt.hist(num_wins, bins=13, rwidth=.8, density=True)\n",
    "ax.set(xlabel='Number of Wins', ylabel='Percent of Permutations', title='Binomial Distribution for 13 Fantasy Football Rounds')\n",
    "plt.show()\n",
    "\n",
    "# Find the number of occurrences for each discrete number of wins \n",
    "num_wins_summary = pd.Series(num_wins).value_counts().sort_index()\n",
    "\n",
    "# Find the cumulative sum of possibilities starting from 0 to test our hypothesis of skill which is 'greater than' chance\n",
    "# Notice how the max number of possibilities starts at 0 and then decreases from there. I did this since we are only interested in the right tail and \n",
    "# seeing how many possibilities are left above a certain number of wins. This will be our p-value.\n",
    "win_num_cum = []\n",
    "for i in range(len(num_wins_summary)):\n",
    "    win_num_cum.append(sum(num_wins_summary[num_wins_summary.index >= i]))\n",
    "print('This is the cumulative number of wins starting from 0:',win_num_cum)\n",
    "\n",
    "# Binomial calculation for one player's binomial distribution for 9 wins or greater\n",
    "scipy_binom_func_result =  stats.binom_test(9,13, alternative='greater')\n",
    "func_by_hand_result = win_num_cum[9]/len(num_wins)\n",
    "print('\\nHere is the result when we use the binom scipy function: {:.8f} and here is the result from our manual calculation {:.8f}. You can see that we match exactly since we understand the \\\n",
    "theory behind binomial distributions correctly.'.format(scipy_binom_func_result, func_by_hand_result))\n",
    "\n",
    "print('\\nCalculating the binomial distribution for all players combined is where we can\\'t really do this manually anymore since the method we use above isn\\'t very \\\n",
    "efficient. We would have to find the permutations for 182 rounds, which is 2^182. That is A LOT of combinations. We can get close to the true p-value by multiplying by \\\n",
    "14 instead. I will do that and then show the answer using the binom_test function.') \n",
    "print('\\nThis is the approximate p-value for the league\\'s binomial distribution using our manual calculation: {:.3f}\\n'.format(pd.Series(wins_per_team.values).map(dict(pd.Series(win_num_cum))).sum()/(8192*14)))\n",
    "\n",
    "# Here is the actual p-value for the league's binomial distribution\n",
    "print('This is the actual p-value for the league\\'s binomial distribution: {:.3f}'.format(stats.binom_test(wins_per_team.sum(),182, alternative='greater')))\n",
    "\n",
    "# An example of a t-test on the same data\n",
    "print('\\nYou wouldn\\'t use a t-Test for this analysis, but this here is the result for a t-Test to demonstrate: ', stats.ttest_1samp(pd.Series(wins_per_team.values),6.5))\n",
    "\n",
    "print('\\nIf the mean of the data was 6.5, you get a p-value of 1, while a binomial test would be < 1')"
   ]
  },
  {
   "cell_type": "markdown",
   "metadata": {
    "papermill": {
     "duration": 0.023455,
     "end_time": "2021-03-03T03:02:20.948572",
     "exception": false,
     "start_time": "2021-03-03T03:02:20.925117",
     "status": "completed"
    },
    "tags": []
   },
   "source": [
    "## Q2: Answer\n",
    "\n",
    "We fail to reject the null hypothesis that the league's result was better than random chance. "
   ]
  },
  {
   "cell_type": "markdown",
   "metadata": {
    "papermill": {
     "duration": 0.023454,
     "end_time": "2021-03-03T03:02:20.995868",
     "exception": false,
     "start_time": "2021-03-03T03:02:20.972414",
     "status": "completed"
    },
    "tags": []
   },
   "source": [
    "# Tangent #2: Binning Bias\n",
    "\n",
    "I wanted to share one thing I noticed when working through question 2. When I used the default number of bins (which is 10 bins) for the binomial distribution, this is the graph I saw:"
   ]
  },
  {
   "cell_type": "code",
   "execution_count": 8,
   "metadata": {
    "execution": {
     "iopub.execute_input": "2021-03-03T03:02:21.069807Z",
     "iopub.status.busy": "2021-03-03T03:02:21.068777Z",
     "iopub.status.idle": "2021-03-03T03:02:21.442899Z",
     "shell.execute_reply": "2021-03-03T03:02:21.442242Z"
    },
    "papermill": {
     "duration": 0.422667,
     "end_time": "2021-03-03T03:02:21.443043",
     "exception": false,
     "start_time": "2021-03-03T03:02:21.020376",
     "status": "completed"
    },
    "tags": []
   },
   "outputs": [
    {
     "data": {
      "image/png": "[encoded data removed]",
      "text/plain": [
       "<Figure size 432x288 with 2 Axes>"
      ]
     },
     "metadata": {
      "needs_background": "light"
     },
     "output_type": "display_data"
    }
   ],
   "source": [
    "fig, ax = plt.subplots(1,2, sharey=True)\n",
    "fig.suptitle('Binomial Distribution for 13 Fantasy Football Rounds')\n",
    "ax[0].set(xlabel='Number of Wins', ylabel='Percent of Permutations', title='10 Bins (Biased Example)')\n",
    "ax[0].hist(num_wins, rwidth=.8, density=True)\n",
    "ax[1].set(xlabel='Number of Wins',  title='13 Bins (Accurate Example)')\n",
    "ax[1].hist(num_wins, rwidth=.8, bins=13, density=True)\n",
    "\n",
    "plt.show()"
   ]
  },
  {
   "cell_type": "markdown",
   "metadata": {
    "papermill": {
     "duration": 0.024204,
     "end_time": "2021-03-03T03:02:21.491835",
     "exception": false,
     "start_time": "2021-03-03T03:02:21.467631",
     "status": "completed"
    },
    "tags": []
   },
   "source": [
    "You can see that this graph makes it appear that the distribution may not truly be binomial, but rather a bimodal distribution. However, this is not true, if you set the number of bins to 13, you can see it is definitely a binomial distribution. The only reason it doesn't look correct above is because how the data is being grouped together. This is called 'binning bias' when the number of bins supports a story that isn't supported by the data. This is one way people can 'lie' with data or make the data tell a story that they want to tell instead of what the actual truth underlying the data might be."
   ]
  },
  {
   "cell_type": "markdown",
   "metadata": {
    "_cell_guid": "b1076dfc-b9ad-4769-8c92-a6c4dae69d19",
    "_uuid": "8f2839f25d086af736a60e9eeb907d3b93b6e0e5",
    "papermill": {
     "duration": 0.024266,
     "end_time": "2021-03-03T03:02:21.541094",
     "exception": false,
     "start_time": "2021-03-03T03:02:21.516828",
     "status": "completed"
    },
    "tags": []
   },
   "source": [
    "\n",
    "\n"
   ]
  },
  {
   "cell_type": "markdown",
   "metadata": {
    "papermill": {
     "duration": 0.024628,
     "end_time": "2021-03-03T03:02:21.590337",
     "exception": false,
     "start_time": "2021-03-03T03:02:21.565709",
     "status": "completed"
    },
    "tags": []
   },
   "source": [
    "# Question #3: When comparing the first half of the season to the second half, do players results stay consistent?\n",
    "\n",
    "## Q3: Explanation of my approach\n",
    "\n",
    "==> **TLDR**: I compare the first-half to the second-half of the season to see if player's performance remained consistent\n",
    "\n",
    "In the article I referenced at the beginning of this post ([Researchers find most fantasy sports are based on skill, not luck](https://phys.org/news/2018-11-fantasy-sports-based-skill-luck.html)) it references a study by MIT to check if fantasy sports are based on skill or luck. One of the tests that they used was splitting the season in to a first and second half and then plotting the points on a scatter plot. The first season is the x-axis and the second season is the y-axis (or vice-versa). If players were playing by skill and not based on luck, then you should see something resembling a straight line. If not, the points would just be a cloud of dots due to random performance. \n",
    "\n",
    "There were two tests that came to mind for this sort of test, the paired sample t-test and a linear regression. I went with the linear regression since it seemed more appropriate for the amount of data and the type of question I was asking.\n"
   ]
  },
  {
   "cell_type": "markdown",
   "metadata": {
    "papermill": {
     "duration": 0.024552,
     "end_time": "2021-03-03T03:02:21.639874",
     "exception": false,
     "start_time": "2021-03-03T03:02:21.615322",
     "status": "completed"
    },
    "tags": []
   },
   "source": [
    "## Q3: The code"
   ]
  },
  {
   "cell_type": "code",
   "execution_count": 9,
   "metadata": {
    "execution": {
     "iopub.execute_input": "2021-03-03T03:02:21.705059Z",
     "iopub.status.busy": "2021-03-03T03:02:21.704214Z",
     "iopub.status.idle": "2021-03-03T03:02:21.984474Z",
     "shell.execute_reply": "2021-03-03T03:02:21.983740Z"
    },
    "papermill": {
     "duration": 0.319789,
     "end_time": "2021-03-03T03:02:21.984651",
     "exception": false,
     "start_time": "2021-03-03T03:02:21.664862",
     "status": "completed"
    },
    "tags": []
   },
   "outputs": [
    {
     "data": {
      "image/png": "[encoded data removed]",
      "text/plain": [
       "<Figure size 432x288 with 1 Axes>"
      ]
     },
     "metadata": {
      "needs_background": "light"
     },
     "output_type": "display_data"
    },
    {
     "name": "stdout",
     "output_type": "stream",
     "text": [
      "Our correlation indicates a slight positive correlation with a correlation of 0.11858872113956205. The slope of the line is 0.15469613259668563. This matches the slope found when using the scipy linregress function. Here is the linregress output: \n",
      "\n",
      "LinregressResult(slope=0.15469613259668505, intercept=42.44935543278085, rvalue=0.11858872113956206, pvalue=0.6863753183651546, stderr=0.3739124858755015)\n",
      "\n",
      "The p-value is 0.6864, which shows that we fail to reject the null hypothesis again. The null hypothesis states the league's performance doesn't differ from random chance.\n"
     ]
    }
   ],
   "source": [
    "# First half of the season win percentage compared to the 2nd half\n",
    "\n",
    "# Divide the fantasy football data into the first and second halves\n",
    "first_half_wins = dat.iloc[:,0:6]\n",
    "second_half_wins = dat.iloc[:,7:]\n",
    "\n",
    "# Find the percent of first half wins\n",
    "first_half_pcts = first_half_wins.sum(axis=1)/len(first_half_wins.columns) * 100\n",
    "second_half_pcts = second_half_wins.sum(axis=1)/len(second_half_wins.columns) * 100\n",
    "\n",
    "# Combine into back into one DataFrame\n",
    "performance = pd.concat([first_half_pcts, second_half_pcts], axis=1)\n",
    "performance.columns = ['first_half','second_half']\n",
    "\n",
    "# Plot the results\n",
    "import seaborn as sns\n",
    "import matplotlib.pyplot as plt\n",
    "\n",
    "# Tried regplot - didn't like the formatting and found it easier just to set it up manually for now\n",
    "# plot = sns.regplot('first_half','second_half', data=performance)\n",
    "# plot.set(xlim=(0,1))\n",
    "# plt.show()\n",
    "\n",
    "# Use matplotlib to plot the points\n",
    "slope, intercept = np.polyfit(performance['first_half'], performance['second_half'], 1) #1D polynomial\n",
    "fig, ax = plt.subplots()\n",
    "ax.scatter(performance['first_half'], performance['second_half'])\n",
    "ax.set(xlabel='first half',ylabel='second half')\n",
    "plt.plot([min(performance['first_half']),max(performance['first_half'])], [intercept,slope * max(performance['first_half']) + intercept], color='red') # y=mx+b for the slope\n",
    "plt.show()\n",
    "\n",
    "corr = np.corrcoef(performance['first_half'], performance['second_half'])\n",
    "\n",
    "# Use linregress to see if the line significantly differs from 0\n",
    "stats_out = stats.linregress(first_half_pcts, second_half_pcts)\n",
    "\n",
    "print('Our correlation indicates a slight positive correlation with a correlation of {}. The slope of the line is {}. \\\n",
    "This matches the slope found when using the scipy linregress function. Here is the linregress output: \\n\\n{}\\n\\n\\\n",
    "The p-value is {:.4f}, which shows that we fail to reject the null hypothesis again. The null hypothesis states the league\\'s performance doesn\\'t differ from random chance.'\\\n",
    "      .format(corr[0][1], slope, stats_out, stats_out.pvalue))"
   ]
  },
  {
   "cell_type": "markdown",
   "metadata": {
    "papermill": {
     "duration": 0.028756,
     "end_time": "2021-03-03T03:02:22.042555",
     "exception": false,
     "start_time": "2021-03-03T03:02:22.013799",
     "status": "completed"
    },
    "tags": []
   },
   "source": [
    "## Q3: The Answer\n",
    "\n",
    "==> **TLDR**: The league's results can also be attributed to random chance\n",
    "\n",
    "The line has a slope of .15, which indicates that for each percent increase in the first half, the second half only increase by .15%. If these were perfectly correlated, we would expect the slope to be 1. A slope of 1% would be a perfect diagonal line since for every 1 percent increase in the first half, the second half also increases by 1 percent. \n",
    "\n",
    "The correlation was only .11, which indicates a slight positive correlation. However, when we test to see if the line is statistically significant from 0 using the linregress function, we can see that the p-value is .686, which means we fail to reject the null hypothesis. These results re-affirm our results from question 2, that the league's results cannot be attributed to skill, but luck seems to have played a bigger role in the outcomes."
   ]
  },
  {
   "cell_type": "markdown",
   "metadata": {
    "papermill": {
     "duration": 0.026446,
     "end_time": "2021-03-03T03:02:22.098335",
     "exception": false,
     "start_time": "2021-03-03T03:02:22.071889",
     "status": "completed"
    },
    "tags": []
   },
   "source": [
    "# Conclusion\n",
    "\n",
    "==> **TLDR**: There were various factors that could have lead to my league and my results being attributed to random chance. Please upvote if you liked the content :)\n",
    "\n",
    "Well, despite fantasy sports being more skill than luck according to MIT, that didn't seem to be the case for myself or for the league that I was in. There were a couple reasons I think those who truly did have more skill didn't have the advantage they might have otherwise had. There were a lot of players who had to sit-out due to COVID-19. In addition to players being benched because of COVID-19, there seemed to be quite a few injuries this season in general. When my team was in the playoffs, I think 75% of my team was drafted from waivers. \n",
    "\n",
    "Another factor was having such a big league. There weren't a lot of good players available on waivers, which made it hard to switch up players on a 'bye' week. Overall, I ended the season placing 10th out of 14. I blame some of this on Dak Prescott getting injured, but really I think this was a learning experience being my first season and all and I'm sure I could have made some better trades or waiver pick-ups. \n",
    "\n",
    "It was great to play fantasy football for the first time and also feed my curiousity by looking into the stats of the game. Please let me know if you have any feedback or see how my analysis could be improved. Hopefully you came away from going through this notebook having a better understanding of binomial distributions and some helpful functions in the numpy and scipy packages. Thanks for reading!\n",
    "\n",
    "P.S. If you made it this far, an upvote would be appreciated :)"
   ]
  },
  {
   "cell_type": "markdown",
   "metadata": {
    "papermill": {
     "duration": 0.025694,
     "end_time": "2021-03-03T03:02:22.150533",
     "exception": false,
     "start_time": "2021-03-03T03:02:22.124839",
     "status": "completed"
    },
    "tags": []
   },
   "source": [
    "# References\n",
    "\n",
    "1. [Researchers find most fantasy sports are based on skill, not luck](https://phys.org/news/2018-11-fantasy-sports-based-skill-luck.html)\n",
    "2. [When Do You Use a Binomial Distribution?](https://www.thoughtco.com/when-to-use-binomial-distribution-3126596)\n",
    "3. [Combinations vs Permutations](https://medium.com/i-math/combinations-permutations-fa7ac680f0ac)\n",
    "4. [Simpson's paradox](https://en.wikipedia.org/wiki/Simpson%27s_paradox#:~:text=Simpson's%20paradox%2C%20which%20also%20goes,when%20these%20groups%20are%20combined.) \n",
    "5. [How_do_I_do_a_nonparametric_Binomial_Test_or_One-sample_t-Test](https://www.researchgate.net/post/How_do_I_do_a_nonparametric_Binomial_Test_or_One-sample_t-Test)\n",
    "6. [Wikipedia - Binomial_sum_variance_inequality](https://en.wikipedia.org/wiki/Binomial_sum_variance_inequality#:~:text=In%20probability%20theory%20and%20statistics,the%20sum%20is%20not%20binomial_)\n",
    "7. [stackexchange - sum-of-two-independent-binomial-variables](https://math.stackexchange.com/questions/1176385/sum-of-two-independent-binomial-variables)\n",
    "8. [Dartmouth Textbook - Central Limit Theorem](https://www.dartmouth.edu/~chance/teaching_aids/books_articles/probability_book/Chapter9.pdf)\n",
    "9. [Boston College Textbook - Central Limit Theorem](https://sphweb.bumc.bu.edu/otlt/MPH-Modules/BS/BS704_Probability/BS704_Probability12.html#:~:text=The%20Central%20Limit%20Theorem%20applies,success%22%20on%20any%20given%20trial)\n",
    "10. [that-common-misconception-about-probabilities](https://medium.com/i-math/that-common-misconception-about-probabilities-3c507b892371)\n",
    "11. [mathisfun - combinations-permutations](https://www.mathsisfun.com/combinatorics/combinations-permutations.html)\n"
   ]
  }
 ],
 "metadata": {
  "kernelspec": {
   "display_name": "Python 3",
   "language": "python",
   "name": "python3"
  },
  "language_info": {
   "codemirror_mode": {
    "name": "ipython",
    "version": 3
   },
   "file_extension": ".py",
   "mimetype": "text/x-python",
   "name": "python",
   "nbconvert_exporter": "python",
   "pygments_lexer": "ipython3",
   "version": "3.7.9"
  },
  "papermill": {
   "default_parameters": {},
   "duration": 10.69044,
   "end_time": "2021-03-03T03:02:22.786917",
   "environment_variables": {},
   "exception": null,
   "input_path": "__notebook__.ipynb",
   "output_path": "__notebook__.ipynb",
   "parameters": {},
   "start_time": "2021-03-03T03:02:12.096477",
   "version": "2.2.2"
  }
 },
 "nbformat": 4,
 "nbformat_minor": 4
}
